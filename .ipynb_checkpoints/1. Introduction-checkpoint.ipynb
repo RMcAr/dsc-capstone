{
 "cells": [
  {
   "cell_type": "markdown",
   "metadata": {},
   "source": [
    "# Analyzing and Predicting Player Count Trends in Online Games\n",
    "\n",
    "## Part 1: An Introduction\n",
    "\n",
    "As we enter the second decade of the 21st century, the interconnectedness of our world increases every day. Once, activities done alone are now conducted online with fellows, and video games are no different. An estimated 2.7 billion gamers exist in the world, and this number can only increase due to the impact COVID-19 has had, and will continue to have, on our culture. With that in mind, businesses that serve these customers must be able to handle the changes that surround us. They must effectively predict how their customer base will be changing in the long run to address capital restrictions, how their player base changes over the medium run to address capturing the largest player base for events/announcements, and how their player base changes over the short run to to address how employing short-term retention strategies. "
   ]
  },
  {
   "cell_type": "markdown",
   "metadata": {},
   "source": [
    "## Our Project\n",
    "We will be using data on concurrent players for multiple games in order to predict number of active players. We can accomplish this on a long term, medium term, and short term basis to help us answer business questions that can ecompass all time periods. This will allow us to make both long and short term recommendations to these businesses who would benefit from our findings. "
   ]
  },
  {
   "cell_type": "markdown",
   "metadata": {},
   "source": [
    "### Project Map\n",
    "First, we will need to collect data to make our predictions, and this will come from Steam, the market dominator for PC gaming. While this will not capture the full sample space of gamers worldwide, Steam is an excellent choice for our data source, as most online gamers opt for playing on PC rather than console interfaces, and Steam dominates the PC gaming market by a great margin. \n",
    "\n",
    "Our data will be structured quite simply. Raw data contains the date, number of players during that day, any flags that are associated with the date (events usually), and number of twitch viewers at that time. We will be dropping number of twitch viewers for our modeling phase, as this is not helpful in predicting number of players. However, taking twitch viewers into account during our EDA phase may be useful in giving richer context. \n",
    "\n",
    "We will have to build models for multiple games in order to avoid overfitting our model to a single game. While a single business may wish to have a model that is precisely fitted to their product, we are attempting to construct a model that can be applied to any online game. \n",
    "\n",
    "During our modelling phase, we will need to adjust parameters to account for the different time periods we wish to predict. In order to do this, we will be using SARIMA or SARIMA EXR, two types of supervised learning models that account for seasonal trends in data. When we model, our \"seasons\" will adjust to the time period we are analyzing: LR is yearly, MR is monthly, and SR is weekly. "
   ]
  },
  {
   "cell_type": "markdown",
   "metadata": {},
   "source": [
    "## Data Collection\n",
    "We established criteria for selecting games from steamdb.info. Our selected games to investigate should:\n",
    "1. Be online. \n",
    "2. Be popular.\n",
    "3. Not be a new release.\n",
    "4. Have in-game events, seasonal or non-seasonal\n",
    "5. Have in-game rewards\n",
    "6. Be available worldwide. \n",
    "\n",
    "While it is not imperative for our games to meet all of these criteria, the more that are met, the better we can apply the given game to our investigation. After some initial research on SteamDB, the following games meet most of our criteria, and will be used for our investigation:\n",
    "\n",
    "- Rocket League, 2015\n",
    "- Counter Strike: Global Offensive, 2012\n",
    "- DOTA 2, 2013\n",
    "- Team Fortress 2, 2007 *\n",
    "\n",
    "*Team Fortress 2 has limited events and rewards, but has an extremely large sample space, so it acts as a great control compared to the other games selected."
   ]
  },
  {
   "cell_type": "markdown",
   "metadata": {},
   "source": [
    "## Raw Data"
   ]
  },
  {
   "cell_type": "markdown",
   "metadata": {},
   "source": [
    "This section serves to introduce our data, make some basic alterations for ease of use, and complete introductory feature engineering. "
   ]
  },
  {
   "cell_type": "code",
   "execution_count": 25,
   "metadata": {
    "scrolled": true
   },
   "outputs": [],
   "source": [
    "# we begin with importing introductory libraries\n",
    "\n",
    "from fsds.imports import * "
   ]
  },
  {
   "cell_type": "code",
   "execution_count": 26,
   "metadata": {
    "scrolled": true
   },
   "outputs": [
    {
     "data": {
      "text/html": [
       "<div>\n",
       "<style scoped>\n",
       "    .dataframe tbody tr th:only-of-type {\n",
       "        vertical-align: middle;\n",
       "    }\n",
       "\n",
       "    .dataframe tbody tr th {\n",
       "        vertical-align: top;\n",
       "    }\n",
       "\n",
       "    .dataframe thead th {\n",
       "        text-align: right;\n",
       "    }\n",
       "</style>\n",
       "<table border=\"1\" class=\"dataframe\">\n",
       "  <thead>\n",
       "    <tr style=\"text-align: right;\">\n",
       "      <th></th>\n",
       "      <th>Players</th>\n",
       "      <th>Flags</th>\n",
       "      <th>Twitch Viewers</th>\n",
       "    </tr>\n",
       "    <tr>\n",
       "      <th>DateTime</th>\n",
       "      <th></th>\n",
       "      <th></th>\n",
       "      <th></th>\n",
       "    </tr>\n",
       "  </thead>\n",
       "  <tbody>\n",
       "    <tr>\n",
       "      <th>2011-09-22</th>\n",
       "      <td>194.0</td>\n",
       "      <td>NaN</td>\n",
       "      <td>NaN</td>\n",
       "    </tr>\n",
       "    <tr>\n",
       "      <th>2011-09-23</th>\n",
       "      <td>240.0</td>\n",
       "      <td>NaN</td>\n",
       "      <td>NaN</td>\n",
       "    </tr>\n",
       "    <tr>\n",
       "      <th>2011-09-24</th>\n",
       "      <td>NaN</td>\n",
       "      <td>NaN</td>\n",
       "      <td>NaN</td>\n",
       "    </tr>\n",
       "    <tr>\n",
       "      <th>2011-09-25</th>\n",
       "      <td>233.0</td>\n",
       "      <td>NaN</td>\n",
       "      <td>NaN</td>\n",
       "    </tr>\n",
       "    <tr>\n",
       "      <th>2011-09-26</th>\n",
       "      <td>222.0</td>\n",
       "      <td>NaN</td>\n",
       "      <td>NaN</td>\n",
       "    </tr>\n",
       "    <tr>\n",
       "      <th>...</th>\n",
       "      <td>...</td>\n",
       "      <td>...</td>\n",
       "      <td>...</td>\n",
       "    </tr>\n",
       "    <tr>\n",
       "      <th>2020-12-30</th>\n",
       "      <td>625344.0</td>\n",
       "      <td>NaN</td>\n",
       "      <td>71052.0</td>\n",
       "    </tr>\n",
       "    <tr>\n",
       "      <th>2020-12-31</th>\n",
       "      <td>561914.0</td>\n",
       "      <td>NaN</td>\n",
       "      <td>60719.0</td>\n",
       "    </tr>\n",
       "    <tr>\n",
       "      <th>2021-01-01</th>\n",
       "      <td>642032.0</td>\n",
       "      <td>NaN</td>\n",
       "      <td>57219.0</td>\n",
       "    </tr>\n",
       "    <tr>\n",
       "      <th>2021-01-02</th>\n",
       "      <td>694687.0</td>\n",
       "      <td>NaN</td>\n",
       "      <td>63547.0</td>\n",
       "    </tr>\n",
       "    <tr>\n",
       "      <th>2021-01-03</th>\n",
       "      <td>692293.0</td>\n",
       "      <td>NaN</td>\n",
       "      <td>55268.0</td>\n",
       "    </tr>\n",
       "  </tbody>\n",
       "</table>\n",
       "<p>3392 rows × 3 columns</p>\n",
       "</div>"
      ],
      "text/plain": [
       "             Players  Flags  Twitch Viewers\n",
       "DateTime                                   \n",
       "2011-09-22     194.0    NaN             NaN\n",
       "2011-09-23     240.0    NaN             NaN\n",
       "2011-09-24       NaN    NaN             NaN\n",
       "2011-09-25     233.0    NaN             NaN\n",
       "2011-09-26     222.0    NaN             NaN\n",
       "...              ...    ...             ...\n",
       "2020-12-30  625344.0    NaN         71052.0\n",
       "2020-12-31  561914.0    NaN         60719.0\n",
       "2021-01-01  642032.0    NaN         57219.0\n",
       "2021-01-02  694687.0    NaN         63547.0\n",
       "2021-01-03  692293.0    NaN         55268.0\n",
       "\n",
       "[3392 rows x 3 columns]"
      ]
     },
     "execution_count": 26,
     "metadata": {},
     "output_type": "execute_result"
    }
   ],
   "source": [
    "# we import our raw data\n",
    "\n",
    "dota = pd.read_csv('data/Raw/dota2.csv', parse_dates = ['DateTime'], index_col = 'DateTime')\n",
    "csgo = pd.read_csv('data/Raw/csgo.csv', parse_dates = ['DateTime'], index_col = 'DateTime')\n",
    "rl = pd.read_csv('data/Raw/rl.csv', parse_dates = ['DateTime'], index_col = 'DateTime')\n",
    "tf = pd.read_csv('data/Raw/tf2.csv', parse_dates = ['DateTime'], index_col = 'DateTime')\n",
    "\n",
    "# we construct a list of these dataframes to use throughout\n",
    "\n",
    "ls = [csgo, dota, rl, tf]\n",
    "labels = [\"CS:GO\", \"DOTA 2\", \"Rocket League\", 'Team Fortress 2']\n",
    "\n",
    "dota"
   ]
  },
  {
   "cell_type": "code",
   "execution_count": 27,
   "metadata": {},
   "outputs": [
    {
     "data": {
      "text/plain": [
       "Index(['Players', 'Flags', 'Twitch Viewers'], dtype='object')"
      ]
     },
     "execution_count": 27,
     "metadata": {},
     "output_type": "execute_result"
    }
   ],
   "source": [
    "# we inspect columns\n",
    "dota.columns"
   ]
  },
  {
   "cell_type": "markdown",
   "metadata": {},
   "source": [
    "### Flags\n",
    "Upon inspecting this column, we were disappointed to see that event notes did not translate when importing our data, resulting in this column being empty. We will instead have to complete this manually from SteamDB in our feature engineering section. "
   ]
  },
  {
   "cell_type": "code",
   "execution_count": 28,
   "metadata": {},
   "outputs": [
    {
     "data": {
      "text/plain": [
       "[              Players  Twitch Viewers\n",
       " DateTime                             \n",
       " 2011-11-30      680.0             NaN\n",
       " 2011-12-01        NaN             NaN\n",
       " 2011-12-02        NaN             NaN\n",
       " 2011-12-03        NaN             NaN\n",
       " 2011-12-04        NaN             NaN\n",
       " ...               ...             ...\n",
       " 2020-12-30  1056057.0         77815.0\n",
       " 2020-12-31   982583.0         60120.0\n",
       " 2021-01-01  1020715.0         91532.0\n",
       " 2021-01-02  1079804.0         93678.0\n",
       " 2021-01-03  1067795.0         94130.0\n",
       " \n",
       " [3323 rows x 2 columns],\n",
       "              Players  Twitch Viewers\n",
       " DateTime                            \n",
       " 2011-09-22     194.0             NaN\n",
       " 2011-09-23     240.0             NaN\n",
       " 2011-09-24       NaN             NaN\n",
       " 2011-09-25     233.0             NaN\n",
       " 2011-09-26     222.0             NaN\n",
       " ...              ...             ...\n",
       " 2020-12-30  625344.0         71052.0\n",
       " 2020-12-31  561914.0         60719.0\n",
       " 2021-01-01  642032.0         57219.0\n",
       " 2021-01-02  694687.0         63547.0\n",
       " 2021-01-03  692293.0         55268.0\n",
       " \n",
       " [3392 rows x 2 columns],\n",
       "              Players  Twitch Viewers\n",
       " DateTime                            \n",
       " 2014-01-07      12.0             NaN\n",
       " 2014-01-08       NaN             NaN\n",
       " 2014-01-09       NaN             NaN\n",
       " 2014-01-10       NaN             NaN\n",
       " 2014-01-11       NaN             NaN\n",
       " ...              ...             ...\n",
       " 2020-12-30  113708.0         89994.0\n",
       " 2020-12-31   88266.0         53390.0\n",
       " 2021-01-01  102974.0         72013.0\n",
       " 2021-01-02  109847.0         83405.0\n",
       " 2021-01-03  102201.0        117201.0\n",
       " \n",
       " [2554 rows x 2 columns],\n",
       "              Players  Twitch Viewers\n",
       " DateTime                            \n",
       " 2007-09-19    9553.0             NaN\n",
       " 2007-09-20       NaN             NaN\n",
       " 2007-09-21    5118.0             NaN\n",
       " 2007-09-22    4616.0             NaN\n",
       " 2007-09-23       NaN             NaN\n",
       " ...              ...             ...\n",
       " 2020-12-30  100552.0           988.0\n",
       " 2020-12-31  112504.0           932.0\n",
       " 2021-01-01  109008.0           718.0\n",
       " 2021-01-02  111686.0           839.0\n",
       " 2021-01-03  110903.0          3710.0\n",
       " \n",
       " [4856 rows x 2 columns]]"
      ]
     },
     "execution_count": 28,
     "metadata": {},
     "output_type": "execute_result"
    }
   ],
   "source": [
    "# we drop 'Flags'\n",
    "\n",
    "ls = list(map(lambda df:df.drop(columns = 'Flags'), ls))\n",
    "ls"
   ]
  },
  {
   "cell_type": "markdown",
   "metadata": {},
   "source": [
    "A breakdown of the columns in our data:\n",
    "- DateTime: Shows the date in format YYYY-MM-DD HH:MM:SS. However, data is collected on a daily basis at 00:00:00, so we will need to format this column so that only the date shows, and it is pandas encoded as well.\n",
    "- Players: Shows the number of players during the day. This will be our target during our modelling phase. \n",
    "- Flags: A note column for the day that is recorded. Usually indicates an event.\n",
    "- Twitch Viewers: Shows the number of twitch viewers during that day. "
   ]
  },
  {
   "cell_type": "code",
   "execution_count": 29,
   "metadata": {},
   "outputs": [
    {
     "data": {
      "text/plain": [
       "[              players  viewers\n",
       " DateTime                      \n",
       " 2011-11-30      680.0      NaN\n",
       " 2011-12-01        NaN      NaN\n",
       " 2011-12-02        NaN      NaN\n",
       " 2011-12-03        NaN      NaN\n",
       " 2011-12-04        NaN      NaN\n",
       " ...               ...      ...\n",
       " 2020-12-30  1056057.0  77815.0\n",
       " 2020-12-31   982583.0  60120.0\n",
       " 2021-01-01  1020715.0  91532.0\n",
       " 2021-01-02  1079804.0  93678.0\n",
       " 2021-01-03  1067795.0  94130.0\n",
       " \n",
       " [3323 rows x 2 columns],\n",
       "              players  viewers\n",
       " DateTime                     \n",
       " 2011-09-22     194.0      NaN\n",
       " 2011-09-23     240.0      NaN\n",
       " 2011-09-24       NaN      NaN\n",
       " 2011-09-25     233.0      NaN\n",
       " 2011-09-26     222.0      NaN\n",
       " ...              ...      ...\n",
       " 2020-12-30  625344.0  71052.0\n",
       " 2020-12-31  561914.0  60719.0\n",
       " 2021-01-01  642032.0  57219.0\n",
       " 2021-01-02  694687.0  63547.0\n",
       " 2021-01-03  692293.0  55268.0\n",
       " \n",
       " [3392 rows x 2 columns],\n",
       "              players   viewers\n",
       " DateTime                      \n",
       " 2014-01-07      12.0       NaN\n",
       " 2014-01-08       NaN       NaN\n",
       " 2014-01-09       NaN       NaN\n",
       " 2014-01-10       NaN       NaN\n",
       " 2014-01-11       NaN       NaN\n",
       " ...              ...       ...\n",
       " 2020-12-30  113708.0   89994.0\n",
       " 2020-12-31   88266.0   53390.0\n",
       " 2021-01-01  102974.0   72013.0\n",
       " 2021-01-02  109847.0   83405.0\n",
       " 2021-01-03  102201.0  117201.0\n",
       " \n",
       " [2554 rows x 2 columns],\n",
       "              players  viewers\n",
       " DateTime                     \n",
       " 2007-09-19    9553.0      NaN\n",
       " 2007-09-20       NaN      NaN\n",
       " 2007-09-21    5118.0      NaN\n",
       " 2007-09-22    4616.0      NaN\n",
       " 2007-09-23       NaN      NaN\n",
       " ...              ...      ...\n",
       " 2020-12-30  100552.0    988.0\n",
       " 2020-12-31  112504.0    932.0\n",
       " 2021-01-01  109008.0    718.0\n",
       " 2021-01-02  111686.0    839.0\n",
       " 2021-01-03  110903.0   3710.0\n",
       " \n",
       " [4856 rows x 2 columns]]"
      ]
     },
     "execution_count": 29,
     "metadata": {},
     "output_type": "execute_result"
    }
   ],
   "source": [
    "# we rename columns\n",
    "\n",
    "rename_dict = {\n",
    "    \"DateTime\" : \"time\",\n",
    "    \"Players\" : \"players\",\n",
    "    \"Twitch Viewers\" : 'viewers'\n",
    "}\n",
    "\n",
    "ls = list(map(lambda df: df.rename(columns = rename_dict), ls))\n",
    "ls"
   ]
  },
  {
   "cell_type": "markdown",
   "metadata": {},
   "source": [
    "## Null Values"
   ]
  },
  {
   "cell_type": "code",
   "execution_count": 30,
   "metadata": {},
   "outputs": [
    {
     "data": {
      "text/html": [
       "<div>\n",
       "<style scoped>\n",
       "    .dataframe tbody tr th:only-of-type {\n",
       "        vertical-align: middle;\n",
       "    }\n",
       "\n",
       "    .dataframe tbody tr th {\n",
       "        vertical-align: top;\n",
       "    }\n",
       "\n",
       "    .dataframe thead th {\n",
       "        text-align: right;\n",
       "    }\n",
       "</style>\n",
       "<table border=\"1\" class=\"dataframe\">\n",
       "  <thead>\n",
       "    <tr style=\"text-align: right;\">\n",
       "      <th></th>\n",
       "      <th>players</th>\n",
       "      <th>viewers</th>\n",
       "    </tr>\n",
       "    <tr>\n",
       "      <th>DateTime</th>\n",
       "      <th></th>\n",
       "      <th></th>\n",
       "    </tr>\n",
       "  </thead>\n",
       "  <tbody>\n",
       "    <tr>\n",
       "      <th>2011-11-30</th>\n",
       "      <td>680.0</td>\n",
       "      <td>0.0</td>\n",
       "    </tr>\n",
       "    <tr>\n",
       "      <th>2011-12-01</th>\n",
       "      <td>0.0</td>\n",
       "      <td>0.0</td>\n",
       "    </tr>\n",
       "    <tr>\n",
       "      <th>2011-12-02</th>\n",
       "      <td>0.0</td>\n",
       "      <td>0.0</td>\n",
       "    </tr>\n",
       "    <tr>\n",
       "      <th>2011-12-03</th>\n",
       "      <td>0.0</td>\n",
       "      <td>0.0</td>\n",
       "    </tr>\n",
       "    <tr>\n",
       "      <th>2011-12-04</th>\n",
       "      <td>0.0</td>\n",
       "      <td>0.0</td>\n",
       "    </tr>\n",
       "    <tr>\n",
       "      <th>...</th>\n",
       "      <td>...</td>\n",
       "      <td>...</td>\n",
       "    </tr>\n",
       "    <tr>\n",
       "      <th>2020-12-30</th>\n",
       "      <td>1056057.0</td>\n",
       "      <td>77815.0</td>\n",
       "    </tr>\n",
       "    <tr>\n",
       "      <th>2020-12-31</th>\n",
       "      <td>982583.0</td>\n",
       "      <td>60120.0</td>\n",
       "    </tr>\n",
       "    <tr>\n",
       "      <th>2021-01-01</th>\n",
       "      <td>1020715.0</td>\n",
       "      <td>91532.0</td>\n",
       "    </tr>\n",
       "    <tr>\n",
       "      <th>2021-01-02</th>\n",
       "      <td>1079804.0</td>\n",
       "      <td>93678.0</td>\n",
       "    </tr>\n",
       "    <tr>\n",
       "      <th>2021-01-03</th>\n",
       "      <td>1067795.0</td>\n",
       "      <td>94130.0</td>\n",
       "    </tr>\n",
       "  </tbody>\n",
       "</table>\n",
       "<p>3323 rows × 2 columns</p>\n",
       "</div>"
      ],
      "text/plain": [
       "              players  viewers\n",
       "DateTime                      \n",
       "2011-11-30      680.0      0.0\n",
       "2011-12-01        0.0      0.0\n",
       "2011-12-02        0.0      0.0\n",
       "2011-12-03        0.0      0.0\n",
       "2011-12-04        0.0      0.0\n",
       "...               ...      ...\n",
       "2020-12-30  1056057.0  77815.0\n",
       "2020-12-31   982583.0  60120.0\n",
       "2021-01-01  1020715.0  91532.0\n",
       "2021-01-02  1079804.0  93678.0\n",
       "2021-01-03  1067795.0  94130.0\n",
       "\n",
       "[3323 rows x 2 columns]"
      ]
     },
     "execution_count": 30,
     "metadata": {},
     "output_type": "execute_result"
    }
   ],
   "source": [
    "# we fill NaN with 0\n",
    "\n",
    "ls = list(map(lambda df: df.fillna(0), ls))\n",
    "ls[0]\n",
    "    "
   ]
  },
  {
   "cell_type": "markdown",
   "metadata": {},
   "source": [
    "Our data contains player counts and viewers for times before a given game's release, so we will need to alter the bounds of our times in order to gain data that will be modellable. "
   ]
  },
  {
   "cell_type": "code",
   "execution_count": 31,
   "metadata": {},
   "outputs": [],
   "source": [
    "# We convert players and viewers from float to int\n",
    "\n",
    "for df in ls:\n",
    "    df['players'] = df['players'].astype(int)\n",
    "    df['viewers'] = df['viewers'].astype(int)"
   ]
  },
  {
   "cell_type": "code",
   "execution_count": 32,
   "metadata": {},
   "outputs": [],
   "source": [
    "# We update time boundaries to exclude days immediately after game release\n",
    "\n",
    "csgo = ls[0][\"2015-01-01\":]\n",
    "dota = ls[1][\"2015-01-01\":]\n",
    "rl = ls[2][\"2015-07-27\":]\n",
    "tf = ls[3][\"2012-01-01\":]\n",
    "\n",
    "ls = [csgo, dota, rl, tf]\n",
    "ls = list(map(lambda df: df.reset_index(), ls))"
   ]
  },
  {
   "cell_type": "markdown",
   "metadata": {},
   "source": [
    "### Introductory Feature Engineering\n",
    "There are some features that we need to address as soon as possible, though others will likely reveal themselves as we continue on. As stated earlier, we must manually address the issue of events not being encoded in our data. We will be constructing a column labelled 'event', encoded as '1' for an event ongoing, or '0' for no event. \n",
    "\n",
    "Furthermore, we should construct a column that represents the percent change in players and viewers, giving us a column that measures margins. "
   ]
  },
  {
   "cell_type": "markdown",
   "metadata": {},
   "source": [
    "#### Events\n",
    "We made a csv file named 'events' that contains the date, and columns for each of our games events; 1 for an event ongoing, 0 for no event. You will notice that Team Fortress 2 is not included in this section, and that is because there were no events for the lifetime of Team Fortress 2."
   ]
  },
  {
   "cell_type": "code",
   "execution_count": 33,
   "metadata": {},
   "outputs": [],
   "source": [
    "# we construct our 'event' column. "
   ]
  },
  {
   "cell_type": "code",
   "execution_count": 34,
   "metadata": {},
   "outputs": [
    {
     "data": {
      "text/plain": [
       "0.0    3211\n",
       "1.0     112\n",
       "Name: csgo, dtype: int64"
      ]
     },
     "execution_count": 34,
     "metadata": {},
     "output_type": "execute_result"
    }
   ],
   "source": [
    "# we import the csv file we constructed for this process\n",
    "\n",
    "df_events = pd.read_csv('data/Raw/events.csv').fillna(0)\n",
    "\n",
    "df_events['csgo'].value_counts()"
   ]
  },
  {
   "cell_type": "code",
   "execution_count": 35,
   "metadata": {},
   "outputs": [],
   "source": [
    "# we format the 'time' column to datetime\n",
    "\n",
    "for i in range(len(df_events['time'])):\n",
    "    \n",
    "    df_events['time'][i] = df_events['time'][i].replace('-', '') \n",
    "    \n",
    "df_events['time'] = pd.to_datetime(df_events['time'], format = '%Y%m%d')"
   ]
  },
  {
   "cell_type": "code",
   "execution_count": 36,
   "metadata": {},
   "outputs": [],
   "source": [
    "# we establish event df for each game\n",
    "\n",
    "df_csgo = df_events['csgo']\n",
    "df_dota = df_events['dota']\n",
    "df_rl = df_events['rl']\n"
   ]
  },
  {
   "cell_type": "code",
   "execution_count": 37,
   "metadata": {},
   "outputs": [],
   "source": [
    "# and join the player count dataframes with these event dataframes\n",
    "\n",
    "csgo_join = ls[0].join(df_csgo, how = 'inner')\n",
    "dota_join = ls[1].join(df_dota, how = 'inner')\n",
    "rl_join = ls[2].join(df_rl, how = 'inner')\n"
   ]
  },
  {
   "cell_type": "code",
   "execution_count": 38,
   "metadata": {},
   "outputs": [],
   "source": [
    "# finally, we rename the column to reflect 'event', we also need to add an event column for tf\n",
    "# even though this column will be fully 0\n",
    "\n",
    "csgo = csgo_join.rename(columns = {'csgo':'event'})\n",
    "dota = dota_join.rename(columns = {'dota':'event'})\n",
    "rl = rl_join.rename(columns = {'rl':'event'})\n",
    "\n",
    "tf = ls[3]\n",
    "tf['event'] = 0 \n"
   ]
  },
  {
   "cell_type": "code",
   "execution_count": 39,
   "metadata": {},
   "outputs": [],
   "source": [
    "# we re-establish our list of dataframes\n",
    "\n",
    "ls = [csgo, dota, rl, tf]"
   ]
  },
  {
   "cell_type": "code",
   "execution_count": 40,
   "metadata": {},
   "outputs": [],
   "source": [
    "for df in ls:\n",
    "    for i in range(len(df['event'])):\n",
    "        if df['event'][i] == 1:\n",
    "            df['event'][i] = 'Yes'\n",
    "        else:\n",
    "            df['event'][i] = 'No'\n",
    "        "
   ]
  },
  {
   "cell_type": "markdown",
   "metadata": {},
   "source": [
    "### Marginal change in Players/Viewers\n",
    "\n",
    "This will be a helpful column to construct now, as inspecting the change in players/viewers is arguably more important than just inspecting the raw number of players/viewers. It will also normalize our data so that we can easily compare different games without worrying that the player bases are of such different scale. "
   ]
  },
  {
   "cell_type": "code",
   "execution_count": 41,
   "metadata": {},
   "outputs": [],
   "source": [
    "# we get percent change of our players and viewers columns\n",
    "\n",
    "for df in ls:\n",
    "    df['%chg_players'] = df['players'].pct_change()\n",
    "    df['%chg_viewers'] = df['viewers'].pct_change()\n"
   ]
  },
  {
   "cell_type": "markdown",
   "metadata": {},
   "source": [
    "### Game Column\n",
    "\n",
    "We should add a column to all of our dataframes that will specify which game it is for."
   ]
  },
  {
   "cell_type": "code",
   "execution_count": 42,
   "metadata": {},
   "outputs": [],
   "source": [
    "for i, df in enumerate(ls):\n",
    "    df['title'] = labels[i]"
   ]
  },
  {
   "cell_type": "code",
   "execution_count": 43,
   "metadata": {},
   "outputs": [
    {
     "data": {
      "text/html": [
       "<div>\n",
       "<style scoped>\n",
       "    .dataframe tbody tr th:only-of-type {\n",
       "        vertical-align: middle;\n",
       "    }\n",
       "\n",
       "    .dataframe tbody tr th {\n",
       "        vertical-align: top;\n",
       "    }\n",
       "\n",
       "    .dataframe thead th {\n",
       "        text-align: right;\n",
       "    }\n",
       "</style>\n",
       "<table border=\"1\" class=\"dataframe\">\n",
       "  <thead>\n",
       "    <tr style=\"text-align: right;\">\n",
       "      <th></th>\n",
       "      <th>DateTime</th>\n",
       "      <th>players</th>\n",
       "      <th>viewers</th>\n",
       "      <th>event</th>\n",
       "      <th>%chg_players</th>\n",
       "      <th>%chg_viewers</th>\n",
       "      <th>title</th>\n",
       "    </tr>\n",
       "  </thead>\n",
       "  <tbody>\n",
       "    <tr>\n",
       "      <th>0</th>\n",
       "      <td>2012-01-01</td>\n",
       "      <td>46374</td>\n",
       "      <td>0</td>\n",
       "      <td>No</td>\n",
       "      <td>NaN</td>\n",
       "      <td>NaN</td>\n",
       "      <td>Team Fortress 2</td>\n",
       "    </tr>\n",
       "    <tr>\n",
       "      <th>1</th>\n",
       "      <td>2012-01-02</td>\n",
       "      <td>45005</td>\n",
       "      <td>0</td>\n",
       "      <td>No</td>\n",
       "      <td>-0.029521</td>\n",
       "      <td>NaN</td>\n",
       "      <td>Team Fortress 2</td>\n",
       "    </tr>\n",
       "    <tr>\n",
       "      <th>2</th>\n",
       "      <td>2012-01-03</td>\n",
       "      <td>40923</td>\n",
       "      <td>0</td>\n",
       "      <td>No</td>\n",
       "      <td>-0.090701</td>\n",
       "      <td>NaN</td>\n",
       "      <td>Team Fortress 2</td>\n",
       "    </tr>\n",
       "    <tr>\n",
       "      <th>3</th>\n",
       "      <td>2012-01-04</td>\n",
       "      <td>43962</td>\n",
       "      <td>0</td>\n",
       "      <td>No</td>\n",
       "      <td>0.074261</td>\n",
       "      <td>NaN</td>\n",
       "      <td>Team Fortress 2</td>\n",
       "    </tr>\n",
       "    <tr>\n",
       "      <th>4</th>\n",
       "      <td>2012-01-05</td>\n",
       "      <td>46017</td>\n",
       "      <td>0</td>\n",
       "      <td>No</td>\n",
       "      <td>0.046745</td>\n",
       "      <td>NaN</td>\n",
       "      <td>Team Fortress 2</td>\n",
       "    </tr>\n",
       "    <tr>\n",
       "      <th>...</th>\n",
       "      <td>...</td>\n",
       "      <td>...</td>\n",
       "      <td>...</td>\n",
       "      <td>...</td>\n",
       "      <td>...</td>\n",
       "      <td>...</td>\n",
       "      <td>...</td>\n",
       "    </tr>\n",
       "    <tr>\n",
       "      <th>3286</th>\n",
       "      <td>2020-12-30</td>\n",
       "      <td>100552</td>\n",
       "      <td>988</td>\n",
       "      <td>No</td>\n",
       "      <td>-0.142026</td>\n",
       "      <td>-0.943012</td>\n",
       "      <td>Team Fortress 2</td>\n",
       "    </tr>\n",
       "    <tr>\n",
       "      <th>3287</th>\n",
       "      <td>2020-12-31</td>\n",
       "      <td>112504</td>\n",
       "      <td>932</td>\n",
       "      <td>No</td>\n",
       "      <td>0.118864</td>\n",
       "      <td>-0.056680</td>\n",
       "      <td>Team Fortress 2</td>\n",
       "    </tr>\n",
       "    <tr>\n",
       "      <th>3288</th>\n",
       "      <td>2021-01-01</td>\n",
       "      <td>109008</td>\n",
       "      <td>718</td>\n",
       "      <td>No</td>\n",
       "      <td>-0.031074</td>\n",
       "      <td>-0.229614</td>\n",
       "      <td>Team Fortress 2</td>\n",
       "    </tr>\n",
       "    <tr>\n",
       "      <th>3289</th>\n",
       "      <td>2021-01-02</td>\n",
       "      <td>111686</td>\n",
       "      <td>839</td>\n",
       "      <td>No</td>\n",
       "      <td>0.024567</td>\n",
       "      <td>0.168524</td>\n",
       "      <td>Team Fortress 2</td>\n",
       "    </tr>\n",
       "    <tr>\n",
       "      <th>3290</th>\n",
       "      <td>2021-01-03</td>\n",
       "      <td>110903</td>\n",
       "      <td>3710</td>\n",
       "      <td>No</td>\n",
       "      <td>-0.007011</td>\n",
       "      <td>3.421931</td>\n",
       "      <td>Team Fortress 2</td>\n",
       "    </tr>\n",
       "  </tbody>\n",
       "</table>\n",
       "<p>3291 rows × 7 columns</p>\n",
       "</div>"
      ],
      "text/plain": [
       "       DateTime  players  viewers event  %chg_players  %chg_viewers  \\\n",
       "0    2012-01-01    46374        0    No           NaN           NaN   \n",
       "1    2012-01-02    45005        0    No     -0.029521           NaN   \n",
       "2    2012-01-03    40923        0    No     -0.090701           NaN   \n",
       "3    2012-01-04    43962        0    No      0.074261           NaN   \n",
       "4    2012-01-05    46017        0    No      0.046745           NaN   \n",
       "...         ...      ...      ...   ...           ...           ...   \n",
       "3286 2020-12-30   100552      988    No     -0.142026     -0.943012   \n",
       "3287 2020-12-31   112504      932    No      0.118864     -0.056680   \n",
       "3288 2021-01-01   109008      718    No     -0.031074     -0.229614   \n",
       "3289 2021-01-02   111686      839    No      0.024567      0.168524   \n",
       "3290 2021-01-03   110903     3710    No     -0.007011      3.421931   \n",
       "\n",
       "                title  \n",
       "0     Team Fortress 2  \n",
       "1     Team Fortress 2  \n",
       "2     Team Fortress 2  \n",
       "3     Team Fortress 2  \n",
       "4     Team Fortress 2  \n",
       "...               ...  \n",
       "3286  Team Fortress 2  \n",
       "3287  Team Fortress 2  \n",
       "3288  Team Fortress 2  \n",
       "3289  Team Fortress 2  \n",
       "3290  Team Fortress 2  \n",
       "\n",
       "[3291 rows x 7 columns]"
      ]
     },
     "execution_count": 43,
     "metadata": {},
     "output_type": "execute_result"
    }
   ],
   "source": [
    "ls[3]"
   ]
  },
  {
   "cell_type": "markdown",
   "metadata": {},
   "source": [
    "In this introductory section, we have:\n",
    "\n",
    "* Cleaned data, including datatype handling, null value handling.\n",
    "* We manually addressed the 'flag' column, which did not translate correctly from our data source. We constructed a csv file manually and imported this, joining with our dataframes. \n",
    "* We completed some basic feature engineering, giving us the percent change in both players and viewers, which will be extremely helpful in our EDA.\n",
    "\n",
    "Next, we will be completing Exploratory Data Analysis, in which we will be exploring trends in our data, relationships between predictors, and much more. "
   ]
  },
  {
   "cell_type": "code",
   "execution_count": 44,
   "metadata": {},
   "outputs": [],
   "source": [
    "# we export our dataframes to use in the next notebook\n",
    "\n",
    "csgo.to_csv('data/Clean/csgo.csv')\n",
    "dota.to_csv('data/Clean/dota.csv')\n",
    "rl.to_csv('data/Clean/rl.csv')\n",
    "tf.to_csv('data/Clean/tf.csv')\n"
   ]
  },
  {
   "cell_type": "code",
   "execution_count": null,
   "metadata": {},
   "outputs": [],
   "source": []
  }
 ],
 "metadata": {
  "kernelspec": {
   "display_name": "learn-env",
   "language": "python",
   "name": "learn-env"
  },
  "language_info": {
   "codemirror_mode": {
    "name": "ipython",
    "version": 3
   },
   "file_extension": ".py",
   "mimetype": "text/x-python",
   "name": "python",
   "nbconvert_exporter": "python",
   "pygments_lexer": "ipython3",
   "version": "3.6.12"
  }
 },
 "nbformat": 4,
 "nbformat_minor": 4
}
