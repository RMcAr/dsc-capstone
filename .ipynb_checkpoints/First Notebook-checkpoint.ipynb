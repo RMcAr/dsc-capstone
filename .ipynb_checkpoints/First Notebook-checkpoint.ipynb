{
 "cells": [
  {
   "cell_type": "markdown",
   "metadata": {},
   "source": [
    "# Analyzing and Predicting Player Count Trends in Online Games\n",
    "\n",
    "## Intro\n",
    "\n",
    "As we enter the second decade of the 21st century, the interconnectedness of our world increases every day. Once, activities done alone are now conducted online with fellows, and video games are no different. An estimated 2.7 billion gamers exist in the world, and this number can only increase due to the impact COVID-19 has had, and will continue to have, on our culture. With that in mind, businesses that serve these customers must be able to handle the changes that surround us. They must effectively predict how their customer base will be changing in the long run to address capital restrictions, how their player base changes over the medium run to address capturing the largest player base for events/announcements, and hwo their player base changes over the short run to to address how employing short-term retention strategies. "
   ]
  },
  {
   "cell_type": "markdown",
   "metadata": {},
   "source": [
    "## Our Project\n",
    "We will be using data on concurrent players for multiple games in order to predict number of active players. We can accomplish this on a long term, medium term, and short term basis to help us answer business questions that can ecompass all time periods. Breaking these investigations down, we will:\n",
    "- Make a long-run (LR) prediction for player base, which will help us decide how a business should increase or decrease their capital, namely servers, the primary capital for most online game businesses. \n",
    "- Make a medium-run (MR) prediction for player base, which will help us show when most players are online over the course of a year. Knowing yearly trends will assist in planning events for players, which will lead to increased player retention. \n",
    "- Make a short-run (SR) prediction model for player base, which will help show short-term trends. This will show businesses where short term retention strategies would be most applicable. "
   ]
  },
  {
   "cell_type": "markdown",
   "metadata": {},
   "source": [
    "### Project Map\n",
    "First, we will need to collect data to make our predictions, and this will come from Steam, the market dominator for PC gaming. While this will not capture the full sample space of gamers worldwide, Steam is an excellent choice for our data source, as most online gamers opt for playing on PC rather than console interfaces, and Steam dominates the PC gaming market by a great margin. \n",
    "\n",
    "Our data will be structured quite simply. Raw data contains the date, number of players during that day, any flags that are associated with the date (events usually), and number of twitch viewers at that time. We will be dropping number of twitch viewers for our modeling phase, as this is not helpful in predicting number of players. However, taking twitch viewers into account during our EDA phase may be useful in giving richer context. \n",
    "\n",
    "We will have to build models for multiple games in order to avoid overfitting our model to a single game. While a single business may wish to have a model that is precisely fitted to their product, we are attempting to construct a model that can be applied to any online game. \n",
    "\n",
    "During our modelling phase, we will need to adjust parameters to account for the different time periods we wish to predict. In order to do this, we will be using SARIMA or SARIMA EXR, two types of supervised learning models that account for seasonal trends in data. When we model, our \"seasons\" will adjust to the time period we are analyzing: LR is yearly, MR is monthly, and SR is weekly. "
   ]
  },
  {
   "cell_type": "markdown",
   "metadata": {},
   "source": [
    "## Data Collection\n",
    "We established criteria for selecting games from steamdb.info. Our selected games to investigate should:\n",
    "1. Be online. \n",
    "2. Be popular.\n",
    "3. Not be a new release.\n",
    "4. Have in-game events, seasonal or non-seasonal\n",
    "5. Have in-game rewards\n",
    "\n",
    "While it is not imperative for our games to meet all of these criteria, the more that are met, the better we can apply the given game to our investigation. After some initial research on SteamDB, the following games meet most of our criteria, and will be used for our investigation:\n",
    "\n",
    "- Rocket League, 2015\n",
    "- Counter Strike: Global Offensive, 2012\n",
    "- DOTA 2, 2013\n",
    "- Team Fortress 2, 2007 *\n",
    "\n",
    "*Team Fortress 2 has limited events and rewards, but has an extremely large sample space, so it acts as a great control compared to the other games selected."
   ]
  },
  {
   "cell_type": "markdown",
   "metadata": {},
   "source": [
    "## Raw Data"
   ]
  },
  {
   "cell_type": "markdown",
   "metadata": {},
   "source": [
    "This section serves to introduce our data, make some basic alterations for ease of use, and calculate our summary statistics. "
   ]
  },
  {
   "cell_type": "code",
   "execution_count": 53,
   "metadata": {},
   "outputs": [
    {
     "name": "stdout",
     "output_type": "stream",
     "text": [
      "Requirement already up-to-date: fsds in c:\\users\\rmcar\\anaconda\\envs\\learn-env\\lib\\site-packages (0.2.27)\n",
      "Requirement already satisfied, skipping upgrade: tzlocal in c:\\users\\rmcar\\anaconda\\envs\\learn-env\\lib\\site-packages (from fsds) (2.1)\n",
      "Requirement already satisfied, skipping upgrade: cufflinks>=0.17.0 in c:\\users\\rmcar\\anaconda\\envs\\learn-env\\lib\\site-packages (from fsds) (0.17.3)\n",
      "Requirement already satisfied, skipping upgrade: ipywidgets in c:\\users\\rmcar\\anaconda\\envs\\learn-env\\lib\\site-packages (from fsds) (7.5.1)\n",
      "Requirement already satisfied, skipping upgrade: numpy>=1.18 in c:\\users\\rmcar\\anaconda\\envs\\learn-env\\lib\\site-packages (from fsds) (1.19.2)\n",
      "Requirement already satisfied, skipping upgrade: pyperclip in c:\\users\\rmcar\\anaconda\\envs\\learn-env\\lib\\site-packages (from fsds) (1.8.1)\n",
      "Requirement already satisfied, skipping upgrade: pandas>=1.0.0 in c:\\users\\rmcar\\anaconda\\envs\\learn-env\\lib\\site-packages (from fsds) (1.1.3)\n",
      "Requirement already satisfied, skipping upgrade: missingno in c:\\users\\rmcar\\anaconda\\envs\\learn-env\\lib\\site-packages (from fsds) (0.4.2)\n",
      "Requirement already satisfied, skipping upgrade: scikit-learn>=0.23.1 in c:\\users\\rmcar\\anaconda\\envs\\learn-env\\lib\\site-packages (from fsds) (0.23.2)\n",
      "Requirement already satisfied, skipping upgrade: scipy in c:\\users\\rmcar\\anaconda\\envs\\learn-env\\lib\\site-packages (from fsds) (1.5.2)\n",
      "Requirement already satisfied, skipping upgrade: IPython in c:\\users\\rmcar\\anaconda\\envs\\learn-env\\lib\\site-packages (from fsds) (7.16.1)\n",
      "Requirement already satisfied, skipping upgrade: seaborn>=0.10.0 in c:\\users\\rmcar\\anaconda\\envs\\learn-env\\lib\\site-packages (from fsds) (0.11.0)\n",
      "Requirement already satisfied, skipping upgrade: matplotlib>=3.3.2 in c:\\users\\rmcar\\anaconda\\envs\\learn-env\\lib\\site-packages (from fsds) (3.3.2)\n",
      "Requirement already satisfied, skipping upgrade: pytz in c:\\users\\rmcar\\anaconda\\envs\\learn-env\\lib\\site-packages (from tzlocal->fsds) (2020.1)\n",
      "Requirement already satisfied, skipping upgrade: colorlover>=0.2.1 in c:\\users\\rmcar\\anaconda\\envs\\learn-env\\lib\\site-packages (from cufflinks>=0.17.0->fsds) (0.3.0)\n",
      "Requirement already satisfied, skipping upgrade: six>=1.9.0 in c:\\users\\rmcar\\anaconda\\envs\\learn-env\\lib\\site-packages (from cufflinks>=0.17.0->fsds) (1.15.0)\n",
      "Requirement already satisfied, skipping upgrade: plotly>=4.1.1 in c:\\users\\rmcar\\anaconda\\envs\\learn-env\\lib\\site-packages (from cufflinks>=0.17.0->fsds) (4.11.0)\n",
      "Requirement already satisfied, skipping upgrade: setuptools>=34.4.1 in c:\\users\\rmcar\\anaconda\\envs\\learn-env\\lib\\site-packages (from cufflinks>=0.17.0->fsds) (50.3.1.post20201107)\n",
      "Requirement already satisfied, skipping upgrade: widgetsnbextension~=3.5.0 in c:\\users\\rmcar\\anaconda\\envs\\learn-env\\lib\\site-packages (from ipywidgets->fsds) (3.5.1)\n",
      "Requirement already satisfied, skipping upgrade: traitlets>=4.3.1 in c:\\users\\rmcar\\anaconda\\envs\\learn-env\\lib\\site-packages (from ipywidgets->fsds) (4.3.3)\n",
      "Requirement already satisfied, skipping upgrade: nbformat>=4.2.0 in c:\\users\\rmcar\\anaconda\\envs\\learn-env\\lib\\site-packages (from ipywidgets->fsds) (5.0.8)\n",
      "Requirement already satisfied, skipping upgrade: ipykernel>=4.5.1 in c:\\users\\rmcar\\anaconda\\envs\\learn-env\\lib\\site-packages (from ipywidgets->fsds) (5.3.4)\n",
      "Requirement already satisfied, skipping upgrade: python-dateutil>=2.7.3 in c:\\users\\rmcar\\anaconda\\envs\\learn-env\\lib\\site-packages (from pandas>=1.0.0->fsds) (2.8.1)\n",
      "Requirement already satisfied, skipping upgrade: threadpoolctl>=2.0.0 in c:\\users\\rmcar\\anaconda\\envs\\learn-env\\lib\\site-packages (from scikit-learn>=0.23.1->fsds) (2.1.0)\n",
      "Requirement already satisfied, skipping upgrade: joblib>=0.11 in c:\\users\\rmcar\\anaconda\\envs\\learn-env\\lib\\site-packages (from scikit-learn>=0.23.1->fsds) (0.17.0)\n",
      "Requirement already satisfied, skipping upgrade: pygments in c:\\users\\rmcar\\anaconda\\envs\\learn-env\\lib\\site-packages (from IPython->fsds) (2.7.2)\n",
      "Requirement already satisfied, skipping upgrade: colorama; sys_platform == \"win32\" in c:\\users\\rmcar\\anaconda\\envs\\learn-env\\lib\\site-packages (from IPython->fsds) (0.4.4)\n",
      "Requirement already satisfied, skipping upgrade: pickleshare in c:\\users\\rmcar\\anaconda\\envs\\learn-env\\lib\\site-packages (from IPython->fsds) (0.7.5)\n",
      "Requirement already satisfied, skipping upgrade: decorator in c:\\users\\rmcar\\anaconda\\envs\\learn-env\\lib\\site-packages (from IPython->fsds) (4.4.2)\n",
      "Requirement already satisfied, skipping upgrade: jedi>=0.10 in c:\\users\\rmcar\\anaconda\\envs\\learn-env\\lib\\site-packages (from IPython->fsds) (0.17.0)\n",
      "Requirement already satisfied, skipping upgrade: backcall in c:\\users\\rmcar\\anaconda\\envs\\learn-env\\lib\\site-packages (from IPython->fsds) (0.2.0)\n",
      "Requirement already satisfied, skipping upgrade: prompt-toolkit!=3.0.0,!=3.0.1,<3.1.0,>=2.0.0 in c:\\users\\rmcar\\anaconda\\envs\\learn-env\\lib\\site-packages (from IPython->fsds) (3.0.8)\n",
      "Requirement already satisfied, skipping upgrade: pyparsing!=2.0.4,!=2.1.2,!=2.1.6,>=2.0.3 in c:\\users\\rmcar\\anaconda\\envs\\learn-env\\lib\\site-packages (from matplotlib>=3.3.2->fsds) (2.4.7)\n",
      "Requirement already satisfied, skipping upgrade: cycler>=0.10 in c:\\users\\rmcar\\anaconda\\envs\\learn-env\\lib\\site-packages (from matplotlib>=3.3.2->fsds) (0.10.0)\n",
      "Requirement already satisfied, skipping upgrade: certifi>=2020.06.20 in c:\\users\\rmcar\\anaconda\\envs\\learn-env\\lib\\site-packages (from matplotlib>=3.3.2->fsds) (2020.6.20)\n",
      "Requirement already satisfied, skipping upgrade: kiwisolver>=1.0.1 in c:\\users\\rmcar\\anaconda\\envs\\learn-env\\lib\\site-packages (from matplotlib>=3.3.2->fsds) (1.3.0)\n",
      "Requirement already satisfied, skipping upgrade: pillow>=6.2.0 in c:\\users\\rmcar\\anaconda\\envs\\learn-env\\lib\\site-packages (from matplotlib>=3.3.2->fsds) (8.0.1)\n",
      "Requirement already satisfied, skipping upgrade: retrying>=1.3.3 in c:\\users\\rmcar\\anaconda\\envs\\learn-env\\lib\\site-packages (from plotly>=4.1.1->cufflinks>=0.17.0->fsds) (1.3.3)\n",
      "Requirement already satisfied, skipping upgrade: notebook>=4.4.1 in c:\\users\\rmcar\\anaconda\\envs\\learn-env\\lib\\site-packages (from widgetsnbextension~=3.5.0->ipywidgets->fsds) (6.1.4)\n",
      "Requirement already satisfied, skipping upgrade: ipython-genutils in c:\\users\\rmcar\\anaconda\\envs\\learn-env\\lib\\site-packages (from traitlets>=4.3.1->ipywidgets->fsds) (0.2.0)\n",
      "Requirement already satisfied, skipping upgrade: jupyter-core in c:\\users\\rmcar\\anaconda\\envs\\learn-env\\lib\\site-packages (from nbformat>=4.2.0->ipywidgets->fsds) (4.6.3)\n",
      "Requirement already satisfied, skipping upgrade: jsonschema!=2.5.0,>=2.4 in c:\\users\\rmcar\\anaconda\\envs\\learn-env\\lib\\site-packages (from nbformat>=4.2.0->ipywidgets->fsds) (3.2.0)\n",
      "Requirement already satisfied, skipping upgrade: jupyter-client in c:\\users\\rmcar\\anaconda\\envs\\learn-env\\lib\\site-packages (from ipykernel>=4.5.1->ipywidgets->fsds) (6.1.7)\n",
      "Requirement already satisfied, skipping upgrade: tornado>=4.2 in c:\\users\\rmcar\\anaconda\\envs\\learn-env\\lib\\site-packages (from ipykernel>=4.5.1->ipywidgets->fsds) (6.0.4)\n",
      "Requirement already satisfied, skipping upgrade: parso>=0.7.0 in c:\\users\\rmcar\\anaconda\\envs\\learn-env\\lib\\site-packages (from jedi>=0.10->IPython->fsds) (0.8.0)\n",
      "Requirement already satisfied, skipping upgrade: wcwidth in c:\\users\\rmcar\\anaconda\\envs\\learn-env\\lib\\site-packages (from prompt-toolkit!=3.0.0,!=3.0.1,<3.1.0,>=2.0.0->IPython->fsds) (0.2.5)\n",
      "Requirement already satisfied, skipping upgrade: argon2-cffi in c:\\users\\rmcar\\anaconda\\envs\\learn-env\\lib\\site-packages (from notebook>=4.4.1->widgetsnbextension~=3.5.0->ipywidgets->fsds) (20.1.0)\n",
      "Requirement already satisfied, skipping upgrade: nbconvert in c:\\users\\rmcar\\anaconda\\envs\\learn-env\\lib\\site-packages (from notebook>=4.4.1->widgetsnbextension~=3.5.0->ipywidgets->fsds) (6.0.7)\n",
      "Requirement already satisfied, skipping upgrade: prometheus-client in c:\\users\\rmcar\\anaconda\\envs\\learn-env\\lib\\site-packages (from notebook>=4.4.1->widgetsnbextension~=3.5.0->ipywidgets->fsds) (0.8.0)\n",
      "Requirement already satisfied, skipping upgrade: terminado>=0.8.3 in c:\\users\\rmcar\\anaconda\\envs\\learn-env\\lib\\site-packages (from notebook>=4.4.1->widgetsnbextension~=3.5.0->ipywidgets->fsds) (0.9.1)\n",
      "Requirement already satisfied, skipping upgrade: jinja2 in c:\\users\\rmcar\\anaconda\\envs\\learn-env\\lib\\site-packages (from notebook>=4.4.1->widgetsnbextension~=3.5.0->ipywidgets->fsds) (2.11.2)\n",
      "Requirement already satisfied, skipping upgrade: Send2Trash in c:\\users\\rmcar\\anaconda\\envs\\learn-env\\lib\\site-packages (from notebook>=4.4.1->widgetsnbextension~=3.5.0->ipywidgets->fsds) (1.5.0)\n",
      "Requirement already satisfied, skipping upgrade: pyzmq>=17 in c:\\users\\rmcar\\anaconda\\envs\\learn-env\\lib\\site-packages (from notebook>=4.4.1->widgetsnbextension~=3.5.0->ipywidgets->fsds) (19.0.2)\n",
      "Requirement already satisfied, skipping upgrade: pywin32>=1.0; sys_platform == \"win32\" in c:\\users\\rmcar\\anaconda\\envs\\learn-env\\lib\\site-packages (from jupyter-core->nbformat>=4.2.0->ipywidgets->fsds) (227)\n",
      "Requirement already satisfied, skipping upgrade: importlib-metadata; python_version < \"3.8\" in c:\\users\\rmcar\\anaconda\\envs\\learn-env\\lib\\site-packages (from jsonschema!=2.5.0,>=2.4->nbformat>=4.2.0->ipywidgets->fsds) (2.0.0)\n",
      "Requirement already satisfied, skipping upgrade: pyrsistent>=0.14.0 in c:\\users\\rmcar\\anaconda\\envs\\learn-env\\lib\\site-packages (from jsonschema!=2.5.0,>=2.4->nbformat>=4.2.0->ipywidgets->fsds) (0.17.3)\n",
      "Requirement already satisfied, skipping upgrade: attrs>=17.4.0 in c:\\users\\rmcar\\anaconda\\envs\\learn-env\\lib\\site-packages (from jsonschema!=2.5.0,>=2.4->nbformat>=4.2.0->ipywidgets->fsds) (20.3.0)\n",
      "Requirement already satisfied, skipping upgrade: cffi>=1.0.0 in c:\\users\\rmcar\\anaconda\\envs\\learn-env\\lib\\site-packages (from argon2-cffi->notebook>=4.4.1->widgetsnbextension~=3.5.0->ipywidgets->fsds) (1.14.3)\n",
      "Requirement already satisfied, skipping upgrade: testpath in c:\\users\\rmcar\\anaconda\\envs\\learn-env\\lib\\site-packages (from nbconvert->notebook>=4.4.1->widgetsnbextension~=3.5.0->ipywidgets->fsds) (0.4.4)\n",
      "Requirement already satisfied, skipping upgrade: defusedxml in c:\\users\\rmcar\\anaconda\\envs\\learn-env\\lib\\site-packages (from nbconvert->notebook>=4.4.1->widgetsnbextension~=3.5.0->ipywidgets->fsds) (0.6.0)\n",
      "Requirement already satisfied, skipping upgrade: bleach in c:\\users\\rmcar\\anaconda\\envs\\learn-env\\lib\\site-packages (from nbconvert->notebook>=4.4.1->widgetsnbextension~=3.5.0->ipywidgets->fsds) (3.2.1)\n",
      "Requirement already satisfied, skipping upgrade: nbclient<0.6.0,>=0.5.0 in c:\\users\\rmcar\\anaconda\\envs\\learn-env\\lib\\site-packages (from nbconvert->notebook>=4.4.1->widgetsnbextension~=3.5.0->ipywidgets->fsds) (0.5.1)\n",
      "Requirement already satisfied, skipping upgrade: pandocfilters>=1.4.1 in c:\\users\\rmcar\\anaconda\\envs\\learn-env\\lib\\site-packages (from nbconvert->notebook>=4.4.1->widgetsnbextension~=3.5.0->ipywidgets->fsds) (1.4.2)\n",
      "Requirement already satisfied, skipping upgrade: entrypoints>=0.2.2 in c:\\users\\rmcar\\anaconda\\envs\\learn-env\\lib\\site-packages (from nbconvert->notebook>=4.4.1->widgetsnbextension~=3.5.0->ipywidgets->fsds) (0.3)\n",
      "Requirement already satisfied, skipping upgrade: jupyterlab-pygments in c:\\users\\rmcar\\anaconda\\envs\\learn-env\\lib\\site-packages (from nbconvert->notebook>=4.4.1->widgetsnbextension~=3.5.0->ipywidgets->fsds) (0.1.2)\n",
      "Requirement already satisfied, skipping upgrade: mistune<2,>=0.8.1 in c:\\users\\rmcar\\anaconda\\envs\\learn-env\\lib\\site-packages (from nbconvert->notebook>=4.4.1->widgetsnbextension~=3.5.0->ipywidgets->fsds) (0.8.4)\n",
      "Requirement already satisfied, skipping upgrade: pywinpty>=0.5 in c:\\users\\rmcar\\anaconda\\envs\\learn-env\\lib\\site-packages (from terminado>=0.8.3->notebook>=4.4.1->widgetsnbextension~=3.5.0->ipywidgets->fsds) (0.5.7)\n",
      "Requirement already satisfied, skipping upgrade: MarkupSafe>=0.23 in c:\\users\\rmcar\\anaconda\\envs\\learn-env\\lib\\site-packages (from jinja2->notebook>=4.4.1->widgetsnbextension~=3.5.0->ipywidgets->fsds) (1.1.1)\n",
      "Requirement already satisfied, skipping upgrade: zipp>=0.5 in c:\\users\\rmcar\\anaconda\\envs\\learn-env\\lib\\site-packages (from importlib-metadata; python_version < \"3.8\"->jsonschema!=2.5.0,>=2.4->nbformat>=4.2.0->ipywidgets->fsds) (3.4.0)\n",
      "Requirement already satisfied, skipping upgrade: pycparser in c:\\users\\rmcar\\anaconda\\envs\\learn-env\\lib\\site-packages (from cffi>=1.0.0->argon2-cffi->notebook>=4.4.1->widgetsnbextension~=3.5.0->ipywidgets->fsds) (2.20)\n",
      "Requirement already satisfied, skipping upgrade: packaging in c:\\users\\rmcar\\anaconda\\envs\\learn-env\\lib\\site-packages (from bleach->nbconvert->notebook>=4.4.1->widgetsnbextension~=3.5.0->ipywidgets->fsds) (20.4)\n",
      "Requirement already satisfied, skipping upgrade: webencodings in c:\\users\\rmcar\\anaconda\\envs\\learn-env\\lib\\site-packages (from bleach->nbconvert->notebook>=4.4.1->widgetsnbextension~=3.5.0->ipywidgets->fsds) (0.5.1)\n",
      "Requirement already satisfied, skipping upgrade: async-generator in c:\\users\\rmcar\\anaconda\\envs\\learn-env\\lib\\site-packages (from nbclient<0.6.0,>=0.5.0->nbconvert->notebook>=4.4.1->widgetsnbextension~=3.5.0->ipywidgets->fsds) (1.10)\n",
      "Requirement already satisfied, skipping upgrade: nest-asyncio in c:\\users\\rmcar\\anaconda\\envs\\learn-env\\lib\\site-packages (from nbclient<0.6.0,>=0.5.0->nbconvert->notebook>=4.4.1->widgetsnbextension~=3.5.0->ipywidgets->fsds) (1.4.1)\n"
     ]
    }
   ],
   "source": [
    "# we begin with importing introductory libraries\n",
    "\n",
    "!pip install -U fsds\n",
    "\n",
    "from fsds.imports import * "
   ]
  },
  {
   "cell_type": "code",
   "execution_count": 66,
   "metadata": {},
   "outputs": [
    {
     "name": "stdout",
     "output_type": "stream",
     "text": [
      "<class 'pandas.core.frame.DataFrame'>\n",
      "RangeIndex: 3392 entries, 0 to 3391\n",
      "Data columns (total 4 columns):\n",
      " #   Column          Non-Null Count  Dtype  \n",
      "---  ------          --------------  -----  \n",
      " 0   DateTime        3392 non-null   object \n",
      " 1   Players         3364 non-null   float64\n",
      " 2   Flags           0 non-null      float64\n",
      " 3   Twitch Viewers  1998 non-null   float64\n",
      "dtypes: float64(3), object(1)\n",
      "memory usage: 106.1+ KB\n"
     ]
    }
   ],
   "source": [
    "# we import our raw data\n",
    "\n",
    "dota = pd.read_csv('data/dota2.csv')\n",
    "csgo = pd.read_csv('data/csgo.csv')\n",
    "rl = pd.read_csv('data/rl.csv')\n",
    "tf = pd.read_csv('data/tf2.csv')\n",
    "\n",
    "# we construct a dictionary to use throughout\n",
    "\n",
    "dictionary = {\"dota\":dota,\n",
    "              \"csgo\":csgo,\n",
    "              \"rl\":rl,\n",
    "              \"tf\":tf}\n",
    "\n",
    "dota.info()"
   ]
  },
  {
   "cell_type": "code",
   "execution_count": 55,
   "metadata": {},
   "outputs": [
    {
     "data": {
      "text/plain": [
       "Index(['DateTime', 'Players', 'Flags', 'Twitch Viewers'], dtype='object')"
      ]
     },
     "execution_count": 55,
     "metadata": {},
     "output_type": "execute_result"
    }
   ],
   "source": [
    "# we inspect columns\n",
    "dota.columns"
   ]
  },
  {
   "cell_type": "markdown",
   "metadata": {},
   "source": [
    "### Flags\n",
    "Upon inspecting this column, we were disappointed to see that event notes did not translate when importing our data, resulting in this column being empty. We will instead have to complete this manually from SteamDB in our feature engineering section. "
   ]
  },
  {
   "cell_type": "code",
   "execution_count": 62,
   "metadata": {},
   "outputs": [],
   "source": [
    "# we drop 'Flags'\n",
    "\n",
    "ls = list(map(lambda df:df.drop(columns = 'Flags'), dictionary.values()))"
   ]
  },
  {
   "cell_type": "code",
   "execution_count": 63,
   "metadata": {},
   "outputs": [
    {
     "data": {
      "text/plain": [
       "[                 DateTime   Players  Twitch Viewers\n",
       " 0     2011-09-22 00:00:00     194.0             NaN\n",
       " 1     2011-09-23 00:00:00     240.0             NaN\n",
       " 2     2011-09-24 00:00:00       NaN             NaN\n",
       " 3     2011-09-25 00:00:00     233.0             NaN\n",
       " 4     2011-09-26 00:00:00     222.0             NaN\n",
       " ...                   ...       ...             ...\n",
       " 3387  2020-12-30 00:00:00  625344.0         71052.0\n",
       " 3388  2020-12-31 00:00:00  561914.0         60719.0\n",
       " 3389  2021-01-01 00:00:00  642032.0         57219.0\n",
       " 3390  2021-01-02 00:00:00  694687.0         63547.0\n",
       " 3391  2021-01-03 00:00:00  692293.0         55268.0\n",
       " \n",
       " [3392 rows x 3 columns],\n",
       "                  DateTime    Players  Twitch Viewers\n",
       " 0     2011-11-30 00:00:00      680.0             NaN\n",
       " 1     2011-12-01 00:00:00        NaN             NaN\n",
       " 2     2011-12-02 00:00:00        NaN             NaN\n",
       " 3     2011-12-03 00:00:00        NaN             NaN\n",
       " 4     2011-12-04 00:00:00        NaN             NaN\n",
       " ...                   ...        ...             ...\n",
       " 3318  2020-12-30 00:00:00  1056057.0         77815.0\n",
       " 3319  2020-12-31 00:00:00   982583.0         60120.0\n",
       " 3320  2021-01-01 00:00:00  1020715.0         91532.0\n",
       " 3321  2021-01-02 00:00:00  1079804.0         93678.0\n",
       " 3322  2021-01-03 00:00:00  1067795.0         94130.0\n",
       " \n",
       " [3323 rows x 3 columns],\n",
       "                  DateTime   Players  Twitch Viewers\n",
       " 0     2014-01-07 00:00:00      12.0             NaN\n",
       " 1     2014-01-08 00:00:00       NaN             NaN\n",
       " 2     2014-01-09 00:00:00       NaN             NaN\n",
       " 3     2014-01-10 00:00:00       NaN             NaN\n",
       " 4     2014-01-11 00:00:00       NaN             NaN\n",
       " ...                   ...       ...             ...\n",
       " 2549  2020-12-30 00:00:00  113708.0         89994.0\n",
       " 2550  2020-12-31 00:00:00   88266.0         53390.0\n",
       " 2551  2021-01-01 00:00:00  102974.0         72013.0\n",
       " 2552  2021-01-02 00:00:00  109847.0         83405.0\n",
       " 2553  2021-01-03 00:00:00  102201.0        117201.0\n",
       " \n",
       " [2554 rows x 3 columns],\n",
       "                  DateTime   Players  Twitch Viewers\n",
       " 0     2007-09-19 00:00:00    9553.0             NaN\n",
       " 1     2007-09-20 00:00:00       NaN             NaN\n",
       " 2     2007-09-21 00:00:00    5118.0             NaN\n",
       " 3     2007-09-22 00:00:00    4616.0             NaN\n",
       " 4     2007-09-23 00:00:00       NaN             NaN\n",
       " ...                   ...       ...             ...\n",
       " 4851  2020-12-30 00:00:00  100552.0           988.0\n",
       " 4852  2020-12-31 00:00:00  112504.0           932.0\n",
       " 4853  2021-01-01 00:00:00  109008.0           718.0\n",
       " 4854  2021-01-02 00:00:00  111686.0           839.0\n",
       " 4855  2021-01-03 00:00:00  110903.0          3710.0\n",
       " \n",
       " [4856 rows x 3 columns]]"
      ]
     },
     "execution_count": 63,
     "metadata": {},
     "output_type": "execute_result"
    }
   ],
   "source": [
    "ls"
   ]
  },
  {
   "cell_type": "markdown",
   "metadata": {},
   "source": [
    "A breakdown of the columns in our data:\n",
    "- DateTime: Shows the date in format YYYY-MM-DD HH:MM:SS. However, data is collected on a daily basis at 00:00:00, so we will need to format this column so that only the date shows, and it is pandas encoded as well.\n",
    "- Players: Shows the number of players during the day. This will be our target during our modelling phase. \n",
    "- Flags: A note column for the day that is recorded. Usually indicates an event.\n",
    "- Twitch Viewers: Shows the number of twitch viewers during that day. "
   ]
  },
  {
   "cell_type": "code",
   "execution_count": 65,
   "metadata": {},
   "outputs": [
    {
     "data": {
      "text/plain": [
       "[                     time   players  viewers\n",
       " 0     2011-09-22 00:00:00     194.0      NaN\n",
       " 1     2011-09-23 00:00:00     240.0      NaN\n",
       " 2     2011-09-24 00:00:00       NaN      NaN\n",
       " 3     2011-09-25 00:00:00     233.0      NaN\n",
       " 4     2011-09-26 00:00:00     222.0      NaN\n",
       " ...                   ...       ...      ...\n",
       " 3387  2020-12-30 00:00:00  625344.0  71052.0\n",
       " 3388  2020-12-31 00:00:00  561914.0  60719.0\n",
       " 3389  2021-01-01 00:00:00  642032.0  57219.0\n",
       " 3390  2021-01-02 00:00:00  694687.0  63547.0\n",
       " 3391  2021-01-03 00:00:00  692293.0  55268.0\n",
       " \n",
       " [3392 rows x 3 columns],\n",
       "                      time    players  viewers\n",
       " 0     2011-11-30 00:00:00      680.0      NaN\n",
       " 1     2011-12-01 00:00:00        NaN      NaN\n",
       " 2     2011-12-02 00:00:00        NaN      NaN\n",
       " 3     2011-12-03 00:00:00        NaN      NaN\n",
       " 4     2011-12-04 00:00:00        NaN      NaN\n",
       " ...                   ...        ...      ...\n",
       " 3318  2020-12-30 00:00:00  1056057.0  77815.0\n",
       " 3319  2020-12-31 00:00:00   982583.0  60120.0\n",
       " 3320  2021-01-01 00:00:00  1020715.0  91532.0\n",
       " 3321  2021-01-02 00:00:00  1079804.0  93678.0\n",
       " 3322  2021-01-03 00:00:00  1067795.0  94130.0\n",
       " \n",
       " [3323 rows x 3 columns],\n",
       "                      time   players   viewers\n",
       " 0     2014-01-07 00:00:00      12.0       NaN\n",
       " 1     2014-01-08 00:00:00       NaN       NaN\n",
       " 2     2014-01-09 00:00:00       NaN       NaN\n",
       " 3     2014-01-10 00:00:00       NaN       NaN\n",
       " 4     2014-01-11 00:00:00       NaN       NaN\n",
       " ...                   ...       ...       ...\n",
       " 2549  2020-12-30 00:00:00  113708.0   89994.0\n",
       " 2550  2020-12-31 00:00:00   88266.0   53390.0\n",
       " 2551  2021-01-01 00:00:00  102974.0   72013.0\n",
       " 2552  2021-01-02 00:00:00  109847.0   83405.0\n",
       " 2553  2021-01-03 00:00:00  102201.0  117201.0\n",
       " \n",
       " [2554 rows x 3 columns],\n",
       "                      time   players  viewers\n",
       " 0     2007-09-19 00:00:00    9553.0      NaN\n",
       " 1     2007-09-20 00:00:00       NaN      NaN\n",
       " 2     2007-09-21 00:00:00    5118.0      NaN\n",
       " 3     2007-09-22 00:00:00    4616.0      NaN\n",
       " 4     2007-09-23 00:00:00       NaN      NaN\n",
       " ...                   ...       ...      ...\n",
       " 4851  2020-12-30 00:00:00  100552.0    988.0\n",
       " 4852  2020-12-31 00:00:00  112504.0    932.0\n",
       " 4853  2021-01-01 00:00:00  109008.0    718.0\n",
       " 4854  2021-01-02 00:00:00  111686.0    839.0\n",
       " 4855  2021-01-03 00:00:00  110903.0   3710.0\n",
       " \n",
       " [4856 rows x 3 columns]]"
      ]
     },
     "execution_count": 65,
     "metadata": {},
     "output_type": "execute_result"
    }
   ],
   "source": [
    "# we rename columns\n",
    "\n",
    "rename_dict = {\n",
    "    \"DateTime\" : \"time\",\n",
    "    \"Players\" : \"players\",\n",
    "    \"Twitch Viewers\" : 'viewers'\n",
    "}\n",
    "\n",
    "ls = list(map(lambda df: df.rename(columns = rename_dict), ls))\n",
    "\n",
    "ls"
   ]
  },
  {
   "cell_type": "code",
   "execution_count": null,
   "metadata": {},
   "outputs": [],
   "source": [
    "# we construct some summary stats to get a feel for our data\n",
    "for df in ls:\n",
    "    "
   ]
  }
 ],
 "metadata": {
  "kernelspec": {
   "display_name": "learn-env",
   "language": "python",
   "name": "learn-env"
  },
  "language_info": {
   "codemirror_mode": {
    "name": "ipython",
    "version": 3
   },
   "file_extension": ".py",
   "mimetype": "text/x-python",
   "name": "python",
   "nbconvert_exporter": "python",
   "pygments_lexer": "ipython3",
   "version": "3.6.12"
  }
 },
 "nbformat": 4,
 "nbformat_minor": 4
}
